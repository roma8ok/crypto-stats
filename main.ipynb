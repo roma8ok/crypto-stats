{
 "cells": [
  {
   "cell_type": "code",
   "execution_count": 1,
   "metadata": {},
   "outputs": [
    {
     "name": "stdout",
     "output_type": "stream",
     "text": [
      "Requirement already satisfied: xlsxwriter in ./venv/lib/python3.8/site-packages (1.3.7)\r\n"
     ]
    }
   ],
   "source": [
    "!pip install xlsxwriter"
   ]
  },
  {
   "cell_type": "code",
   "execution_count": 2,
   "metadata": {},
   "outputs": [],
   "source": [
    "import csv\n",
    "\n",
    "import xlsxwriter"
   ]
  },
  {
   "cell_type": "code",
   "execution_count": 3,
   "metadata": {},
   "outputs": [],
   "source": [
    "BTC_PRICE = 'btc_price'\n",
    "BTC_PROFIT = 'btc_profit'\n",
    "ETH_PRICE = 'eth_price'\n",
    "ETH_PROFIT = 'eth_profit'\n",
    "\n",
    "HEADER_DATE = 'Date'\n",
    "HEADER_BTC_PRICE = 'BTC price, USD'\n",
    "HEADER_BTC_PROFIT = 'BTC profit, USD per day for TH'\n",
    "HEADER_ETH_PRICE = 'ETH price, USD'\n",
    "HEADER_ETH_PROFIT = 'ETH profit, USD per day for TH'"
   ]
  },
  {
   "cell_type": "markdown",
   "metadata": {
    "pycharm": {
     "name": "#%% md\n"
    }
   },
   "source": [
    "### Create total data dictionary:"
   ]
  },
  {
   "cell_type": "code",
   "execution_count": 4,
   "metadata": {},
   "outputs": [],
   "source": [
    "def collect_data(out, filepath, col_name):\n",
    "    with open(filepath, 'r') as data_file:\n",
    "        reader = csv.reader(data_file)\n",
    "        for csv_row in reader:\n",
    "            date = csv_row[0]\n",
    "            value = csv_row[1]\n",
    "            if date in total:\n",
    "                out[date][col_name] = value\n",
    "            else:\n",
    "                out[date] = {col_name: value}"
   ]
  },
  {
   "cell_type": "code",
   "execution_count": 5,
   "metadata": {},
   "outputs": [],
   "source": [
    "total = {}\n",
    "input_pairs = (\n",
    "    {'filepath': './input/btc_price.csv', 'col_name': BTC_PRICE},\n",
    "    {'filepath': './input/eth_price.csv', 'col_name': ETH_PRICE},\n",
    "    {'filepath': './input/btc_usd_per_day_for_th.csv', 'col_name': BTC_PROFIT},\n",
    "    {'filepath': './input/eth_usd_per_day_for_th.csv', 'col_name': ETH_PROFIT},\n",
    ")\n",
    "for pair in input_pairs:\n",
    "    collect_data(total, pair['filepath'], pair['col_name'])"
   ]
  },
  {
   "cell_type": "markdown",
   "metadata": {
    "pycharm": {
     "name": "#%% md\n"
    }
   },
   "source": [
    "### Create .csv output file:"
   ]
  },
  {
   "cell_type": "code",
   "execution_count": 6,
   "outputs": [],
   "source": [
    "flat_total = []\n",
    "for dt, data in total.items():\n",
    "    row = (\n",
    "        dt,\n",
    "        data.get(BTC_PRICE, ''),\n",
    "        data.get(ETH_PRICE, ''),\n",
    "        data.get(BTC_PROFIT, ''),\n",
    "        data.get(ETH_PROFIT, ''),\n",
    "    )\n",
    "    flat_total.append(row)"
   ],
   "metadata": {
    "collapsed": false,
    "pycharm": {
     "name": "#%%\n"
    }
   }
  },
  {
   "cell_type": "code",
   "execution_count": 7,
   "outputs": [],
   "source": [
    "with open('./output/output.csv', 'w') as out_file:\n",
    "    writer = csv.writer(out_file)\n",
    "    writer.writerow((\n",
    "        HEADER_DATE,\n",
    "        HEADER_BTC_PRICE,\n",
    "        HEADER_ETH_PRICE,\n",
    "        HEADER_BTC_PROFIT,\n",
    "        HEADER_ETH_PROFIT,\n",
    "    ))\n",
    "    writer.writerows(flat_total)"
   ],
   "metadata": {
    "collapsed": false,
    "pycharm": {
     "name": "#%%\n"
    }
   }
  },
  {
   "cell_type": "markdown",
   "source": [
    "### Create .xlsx output file:"
   ],
   "metadata": {
    "collapsed": false
   }
  },
  {
   "cell_type": "code",
   "execution_count": 8,
   "outputs": [],
   "source": [
    "workbook = xlsxwriter.Workbook('./output/output.xlsx')\n",
    "worksheet = workbook.add_worksheet()\n",
    "\n",
    "row, col = 0, 0\n",
    "\n",
    "worksheet.write(row, col, HEADER_DATE)\n",
    "worksheet.write(row, col + 1, HEADER_BTC_PRICE)\n",
    "worksheet.write(row, col + 2, HEADER_ETH_PRICE)\n",
    "worksheet.write(row, col + 3, HEADER_BTC_PROFIT)\n",
    "worksheet.write(row, col + 4, HEADER_ETH_PROFIT)\n",
    "row += 1\n",
    "\n",
    "for dt, data in total.items():\n",
    "    worksheet.write(row, col, dt)\n",
    "    worksheet.write(row, col + 1, data.get(BTC_PRICE, ''))\n",
    "    worksheet.write(row, col + 2, data.get(ETH_PRICE, ''))\n",
    "    worksheet.write(row, col + 3, data.get(BTC_PROFIT, ''))\n",
    "    worksheet.write(row, col + 4, data.get(ETH_PROFIT, ''))\n",
    "    row += 1\n",
    "\n",
    "workbook.close()"
   ],
   "metadata": {
    "collapsed": false,
    "pycharm": {
     "name": "#%%\n"
    }
   }
  },
  {
   "cell_type": "code",
   "execution_count": null,
   "metadata": {},
   "outputs": [],
   "source": [
    "workbook = xlsxwriter.Workbook('./output/output.xlsx')\n",
    "worksheet = workbook.add_worksheet()\n",
    "\n",
    "row, col = 0, 0\n",
    "\n",
    "worksheet.write(row, col, HEADER_DATE)\n",
    "worksheet.write(row, col + 1, HEADER_BTC_PRICE)\n",
    "worksheet.write(row, col + 2, HEADER_ETH_PRICE)\n",
    "worksheet.write(row, col + 3, HEADER_BTC_PROFIT)\n",
    "worksheet.write(row, col + 4, HEADER_ETH_PROFIT)\n",
    "row += 1\n",
    "\n",
    "for dt, data in total.items():\n",
    "    worksheet.write(row, col, dt)\n",
    "    worksheet.write(row, col + 1, data.get(BTC_PRICE, ''))\n",
    "    worksheet.write(row, col + 2, data.get(ETH_PRICE, ''))\n",
    "    worksheet.write(row, col + 3, data.get(BTC_PROFIT, ''))\n",
    "    worksheet.write(row, col + 4, data.get(ETH_PROFIT, ''))\n",
    "    row += 1\n",
    "\n",
    "workbook.close()"
   ]
  },
  {
   "cell_type": "code",
   "execution_count": null,
   "metadata": {},
   "outputs": [],
   "source": [
    "with open('./output/output.csv', 'w') as f:\n",
    "    writer = csv.writer(f)\n",
    "    writer.writerow((\n",
    "        HEADER_DATE,\n",
    "        HEADER_BTC_PRICE,\n",
    "        HEADER_ETH_PRICE,\n",
    "        HEADER_BTC_PROFIT,\n",
    "        HEADER_ETH_PROFIT,\n",
    "    ))\n",
    "    writer.writerows(flat_total)"
   ]
  },
  {
   "cell_type": "markdown",
   "metadata": {},
   "source": [
    "### Create .xlsx output file:"
   ]
  },
  {
   "cell_type": "code",
   "execution_count": null,
   "metadata": {
    "scrolled": true
   },
   "outputs": [],
   "source": [
    "workbook = xlsxwriter.Workbook('./output/output.xlsx')\n",
    "worksheet = workbook.add_worksheet()\n",
    "\n",
    "row, col = 0, 0\n",
    "\n",
    "worksheet.write(row, col, HEADER_DATE)\n",
    "worksheet.write(row, col + 1, HEADER_BTC_PRICE)\n",
    "worksheet.write(row, col + 2, HEADER_ETH_PRICE)\n",
    "worksheet.write(row, col + 3, HEADER_BTC_PROFIT)\n",
    "worksheet.write(row, col + 4, HEADER_ETH_PROFIT)\n",
    "row += 1\n",
    "\n",
    "for dt, data in total.items():\n",
    "    worksheet.write(row, col, dt)\n",
    "    worksheet.write(row, col + 1, data.get(BTC_PRICE, ''))\n",
    "    worksheet.write(row, col + 2, data.get(ETH_PRICE, ''))\n",
    "    worksheet.write(row, col + 3, data.get(BTC_PROFIT, ''))\n",
    "    worksheet.write(row, col + 4, data.get(ETH_PROFIT, ''))\n",
    "    row += 1\n",
    "\n",
    "workbook.close()"
   ]
  }
 ],
 "metadata": {
  "kernelspec": {
   "display_name": "Python 3",
   "language": "python",
   "name": "python3"
  },
  "language_info": {
   "codemirror_mode": {
    "name": "ipython",
    "version": 3
   },
   "file_extension": ".py",
   "mimetype": "text/x-python",
   "name": "python",
   "nbconvert_exporter": "python",
   "pygments_lexer": "ipython3",
   "version": "3.8.5"
  }
 },
 "nbformat": 4,
 "nbformat_minor": 1
}